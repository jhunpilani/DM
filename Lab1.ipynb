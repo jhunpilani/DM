{
 "cells": [
  {
   "cell_type": "code",
   "execution_count": 1,
   "metadata": {},
   "outputs": [],
   "source": [
    "import pandas as pd\n",
    "import numpy as np\n",
    "import ruleset\n",
    "import matplotlib.pyplot as plt"
   ]
  },
  {
   "cell_type": "code",
   "execution_count": 2,
   "metadata": {},
   "outputs": [
    {
     "data": {
      "text/html": [
       "<div>\n",
       "<style scoped>\n",
       "    .dataframe tbody tr th:only-of-type {\n",
       "        vertical-align: middle;\n",
       "    }\n",
       "\n",
       "    .dataframe tbody tr th {\n",
       "        vertical-align: top;\n",
       "    }\n",
       "\n",
       "    .dataframe thead th {\n",
       "        text-align: right;\n",
       "    }\n",
       "</style>\n",
       "<table border=\"1\" class=\"dataframe\">\n",
       "  <thead>\n",
       "    <tr style=\"text-align: right;\">\n",
       "      <th></th>\n",
       "      <th>Age</th>\n",
       "      <th>Agegroup</th>\n",
       "      <th>Height</th>\n",
       "      <th>Status</th>\n",
       "      <th>Yearsmarried</th>\n",
       "    </tr>\n",
       "  </thead>\n",
       "  <tbody>\n",
       "    <tr>\n",
       "      <th>0</th>\n",
       "      <td>21</td>\n",
       "      <td>adult</td>\n",
       "      <td>6.0</td>\n",
       "      <td>single</td>\n",
       "      <td>-1</td>\n",
       "    </tr>\n",
       "    <tr>\n",
       "      <th>1</th>\n",
       "      <td>2</td>\n",
       "      <td>child</td>\n",
       "      <td>3.0</td>\n",
       "      <td>married</td>\n",
       "      <td>0</td>\n",
       "    </tr>\n",
       "    <tr>\n",
       "      <th>2</th>\n",
       "      <td>18</td>\n",
       "      <td>adult</td>\n",
       "      <td>5.7</td>\n",
       "      <td>married</td>\n",
       "      <td>20</td>\n",
       "    </tr>\n",
       "    <tr>\n",
       "      <th>3</th>\n",
       "      <td>221</td>\n",
       "      <td>elderly</td>\n",
       "      <td>5.0</td>\n",
       "      <td>widowed</td>\n",
       "      <td>2</td>\n",
       "    </tr>\n",
       "    <tr>\n",
       "      <th>4</th>\n",
       "      <td>34</td>\n",
       "      <td>child</td>\n",
       "      <td>-7.0</td>\n",
       "      <td>married</td>\n",
       "      <td>3</td>\n",
       "    </tr>\n",
       "  </tbody>\n",
       "</table>\n",
       "</div>"
      ],
      "text/plain": [
       "   Age Agegroup  Height   Status  Yearsmarried\n",
       "0   21    adult     6.0   single            -1\n",
       "1    2    child     3.0  married             0\n",
       "2   18    adult     5.7  married            20\n",
       "3  221  elderly     5.0  widowed             2\n",
       "4   34    child    -7.0  married             3"
      ]
     },
     "execution_count": 2,
     "metadata": {},
     "output_type": "execute_result"
    }
   ],
   "source": [
    "df = pd.read_csv('people.txt')\n",
    "df"
   ]
  },
  {
   "cell_type": "code",
   "execution_count": 3,
   "metadata": {},
   "outputs": [],
   "source": [
    "rules = []\n",
    "\n",
    "rules.append(ruleset.age_check)\n",
    "rules.append(ruleset.age_marriage_check)\n",
    "rules.append(ruleset.status_check)\n",
    "rules.append(ruleset.agegroup_check)"
   ]
  },
  {
   "cell_type": "code",
   "execution_count": 4,
   "metadata": {},
   "outputs": [
    {
     "name": "stdout",
     "output_type": "stream",
     "text": [
      "Rule No. 1: Checking if age is in range 0-150\n",
      "Violations: 1\n",
      "Rule No. 2: Checking if Age is greater than Yearsmarried\n",
      "Violations: 1\n",
      "Rule No. 3: Checking if Status is from Single, Married, or Widowed\n",
      "Violations: 0\n",
      "Rule No. 4: Checking if Age Group is Violated\n",
      "Violations: 1\n"
     ]
    }
   ],
   "source": [
    "violations = []\n",
    "\n",
    "my_rules = list(map(lambda x: 'Rule No. ' + str(x), range(1, len(rules)+1)))\n",
    "\n",
    "for i in range(len(rules)):\n",
    "    violation, rule_name = rules[i](df)\n",
    "    print(f'{my_rules[i]}: {rule_name}\\nViolations: {violation}')\n",
    "    violations.append(violation)"
   ]
  },
  {
   "cell_type": "code",
   "execution_count": 5,
   "metadata": {},
   "outputs": [
    {
     "data": {
      "image/png": "[encoded data removed]",
      "text/plain": [
       "<Figure size 640x480 with 1 Axes>"
      ]
     },
     "metadata": {},
     "output_type": "display_data"
    }
   ],
   "source": [
    "plt.xlabel('Rules')\n",
    "plt.ylabel('No. of Violations')\n",
    "plt.title('Plotting Violations in Rules')\n",
    "plt.bar(my_rules, violations)\n",
    "plt.show()"
   ]
  },
  {
   "attachments": {},
   "cell_type": "markdown",
   "metadata": {},
   "source": [
    "ruleset.py"
   ]
  },
  {
   "cell_type": "code",
   "execution_count": null,
   "metadata": {},
   "outputs": [],
   "source": [
    "def age_check(df):\n",
    "    errors = df['Age'][(df['Age']>150)|(df['Age']<0)].count()\n",
    "    return errors, 'Checking if age is in range 0-150'\n",
    "\n",
    "def age_marriage_check(df):\n",
    "    errors = 0\n",
    "    for i in range(len(df)):\n",
    "        if df['Age'][i]<df['Yearsmarried'][i]:\n",
    "            errors += 1\n",
    "    return errors, 'Checking if Age is greater than Yearsmarried'\n",
    "\n",
    "def status_check(df):\n",
    "    errors = len(df) - len(df[df['Status'].isin(['single','married','widowed'])])\n",
    "    return errors, 'Checking if Status is from Single, Married, or Widowed'\n",
    "\n",
    "def agegroup_check(df):\n",
    "    errors = 0\n",
    "    for i in range(len(df)):\n",
    "        if df['Age'][i]<18 and df['Agegroup'][i]!='child':\n",
    "            errors += 1\n",
    "        elif df['Age'][i]>=18 and df['Age'][i]<65 and df['Agegroup'][i]!='adult':\n",
    "            errors += 1\n",
    "        elif df['Age'][i]>=65 and df['Agegroup'][i]!='elderly':\n",
    "            errors += 1\n",
    "\n",
    "    return errors, 'Checking if Age Group is Violated'"
   ]
  },
  {
   "attachments": {},
   "cell_type": "markdown",
   "metadata": {},
   "source": [
    "people.txt"
   ]
  },
  {
   "cell_type": "code",
   "execution_count": null,
   "metadata": {},
   "outputs": [],
   "source": [
    "Age,Agegroup,Height,Status,Yearsmarried\n",
    "21,adult,6.0,single,-1\n",
    "2,child,3,married,0\n",
    "18,adult,5.7,married,20\n",
    "221,elderly,5,widowed,2\n",
    "34,child,-7,married,3"
   ]
  }
 ],
 "metadata": {
  "kernelspec": {
   "display_name": "Python 3",
   "language": "python",
   "name": "python3"
  },
  "language_info": {
   "codemirror_mode": {
    "name": "ipython",
    "version": 3
   },
   "file_extension": ".py",
   "mimetype": "text/x-python",
   "name": "python",
   "nbconvert_exporter": "python",
   "pygments_lexer": "ipython3",
   "version": "3.9.6"
  },
  "orig_nbformat": 4,
  "vscode": {
   "interpreter": {
    "hash": "31f2aee4e71d21fbe5cf8b01ff0e069b9275f58929596ceb00d14d90e3e16cd6"
   }
  }
 },
 "nbformat": 4,
 "nbformat_minor": 2
}
